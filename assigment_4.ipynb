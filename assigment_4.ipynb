{
 "cells": [
  {
   "cell_type": "markdown",
   "id": "61d68cfd",
   "metadata": {},
   "source": [
    "1.Explain Class and Object with respect to Object-Oriented Programming. Give a suitable example"
   ]
  },
  {
   "cell_type": "markdown",
   "id": "bc39b68d",
   "metadata": {},
   "source": [
    "class is a blue print of methods or function , from which objects are created \n",
    "\n",
    "object is a instance of class  "
   ]
  },
  {
   "cell_type": "code",
   "execution_count": 20,
   "id": "23f788ba",
   "metadata": {},
   "outputs": [
    {
     "name": "stdout",
     "output_type": "stream",
     "text": [
      "hello sir, good morning\n"
     ]
    }
   ],
   "source": [
    "#  create a class\n",
    "class demo:\n",
    "    def hello(self):\n",
    "        print(\"hello sir, good morning\")\n",
    "        \n",
    "d1 = demo()\n",
    "#  intialize a object of class \n",
    "\n",
    "d1.hello()"
   ]
  },
  {
   "cell_type": "markdown",
   "id": "4513ef60",
   "metadata": {},
   "source": [
    "2.Name the four pillars of OOPs."
   ]
  },
  {
   "cell_type": "markdown",
   "id": "2463c925",
   "metadata": {},
   "source": [
    "ans: \n",
    "four pillars of oops are :\n",
    "    1.abstraction\n",
    "    2.encapsulation\n",
    "    3.inheritance\n",
    "    4.Polymorphism"
   ]
  },
  {
   "cell_type": "markdown",
   "id": "0d1c63f5",
   "metadata": {},
   "source": [
    "3.Explain why the __init__() function is used. Give a suitable example."
   ]
  },
  {
   "cell_type": "code",
   "execution_count": 19,
   "id": "93c47fb6",
   "metadata": {},
   "outputs": [
    {
     "name": "stdout",
     "output_type": "stream",
     "text": [
      "dhruv\n",
      "panchal@gmail.com\n",
      "345678912\n",
      "dhruv 345678912 panchal@gmail.com\n"
     ]
    }
   ],
   "source": [
    "#  init function used as construction in python . using init function we can pass data to class variable .\n",
    "#  init function work like set the data we can say like setter . \n",
    "#  ex\n",
    "\n",
    "class demo2:\n",
    "    def __init__(self,name,phone_number,email_id):\n",
    "        self.name = name\n",
    "        self.number = phone_number\n",
    "        self.email = email_id\n",
    "    def details(self):\n",
    "        print(self.name,self.number,self.email)\n",
    "        \n",
    "\n",
    "d2 = demo2(\"dhruv\" , 345678912, \"panchal@gmail.com\")\n",
    "print(d2.name)\n",
    "print(d2.email)\n",
    "print(d2.number)\n",
    "d2.details()"
   ]
  },
  {
   "cell_type": "markdown",
   "id": "21fed754",
   "metadata": {},
   "source": [
    "4.Why self is used in OOPs?"
   ]
  },
  {
   "cell_type": "code",
   "execution_count": 18,
   "id": "a18d8e0a",
   "metadata": {},
   "outputs": [
    {
     "name": "stdout",
     "output_type": "stream",
     "text": [
      "dhruv 345678912 panchal@gmail.com\n",
      "sudhansusir 9876554321 master_of_datascience@gmail.com\n"
     ]
    }
   ],
   "source": [
    "# <!-- ans :  self used to represent the current instance of class \n",
    "# means we have one class \n",
    "# but we can create many object of that class \n",
    "# so self is used to represent the current instance of that class \n",
    "#  -->\n",
    "\n",
    "class demo2:\n",
    "    def __init__(self,name,phone_number,email_id):\n",
    "        self.name = name\n",
    "        self.number = phone_number\n",
    "        self.email = email_id\n",
    "    def details(self):\n",
    "        print(self.name,self.number,self.email)\n",
    "        \n",
    "\n",
    "d2 = demo2(\"dhruv\" , 345678912, \"panchal@gmail.com\")\n",
    "d2.details()\n",
    "\n",
    "d3  = demo2(\"sudhansusir\" , 9876554321, \"master_of_datascience@gmail.com\")\n",
    "d3.details()\n",
    "\n",
    "#  self is used to represent current object or we can say current instance  of the class"
   ]
  },
  {
   "cell_type": "markdown",
   "id": "b750d065",
   "metadata": {},
   "source": [
    "5.What is inheritance? Give an example for each type of inheritance."
   ]
  },
  {
   "cell_type": "code",
   "execution_count": 22,
   "id": "c4a8f3b6",
   "metadata": {},
   "outputs": [
    {
     "name": "stdout",
     "output_type": "stream",
     "text": [
      "hello i am func 1 \n",
      "hello i am func 2\n",
      "hello i am func 1 \n"
     ]
    }
   ],
   "source": [
    "# inheritance means there is a parent class and there is sub class or child class \n",
    "# so child class can inherit property of parent class \n",
    "# child class  is a class that derived from parent class \n",
    "# using inheritant property child class can access the methods or function or variable of parent class \n",
    "\n",
    "# there are five types of inheritance :\n",
    "#     1.single inheritance\n",
    "#     2.multiple inheritance\n",
    "#     3.multilevel inheritance\n",
    "#     4.hybrid inheritance\n",
    "#     5.herarchical inheritance\n",
    "\n",
    "\n",
    "#  EX - 1 (single inheritance) :\n",
    "class demo1:\n",
    "    def fun1(self):\n",
    "        print(\"hello i am func 1 \")\n",
    "        \n",
    "class demo2(demo1):\n",
    "    \n",
    "    def fun2(self):\n",
    "        print(\"hello i am func 2\")\n",
    "\n",
    "\n",
    "d1  = demo1()\n",
    "d1.fun1()\n",
    "\n",
    "d2 = demo2()\n",
    "d2.fun2()\n",
    "d2.fun1()"
   ]
  },
  {
   "cell_type": "code",
   "execution_count": 31,
   "id": "1eaa1acc",
   "metadata": {},
   "outputs": [],
   "source": [
    "#  EX- 2 (multilevel inheritance):\n",
    "\n",
    "class my_first:\n",
    "    def func1(self):\n",
    "        print(\"hello its me func1 .\")\n",
    "\n",
    "class my_first1(my_first):\n",
    "    \n",
    "    def func2(self):\n",
    "        print(\"hello its me func2 .\")       \n",
    "        \n",
    "class my_first2(my_first1):\n",
    "    def func3(self):\n",
    "        print(\"hello its me func3 .\")\n",
    "        "
   ]
  },
  {
   "cell_type": "code",
   "execution_count": 32,
   "id": "fdddacde",
   "metadata": {},
   "outputs": [
    {
     "name": "stdout",
     "output_type": "stream",
     "text": [
      "hello its me func3 .\n",
      "hello its me func1 .\n",
      "hello its me func2 .\n"
     ]
    }
   ],
   "source": [
    "c = my_first2()\n",
    "c.func3()\n",
    "c.func1()\n",
    "c.func2()"
   ]
  },
  {
   "cell_type": "code",
   "execution_count": 35,
   "id": "9029a537",
   "metadata": {},
   "outputs": [],
   "source": [
    "# (multiple inheritance  Ex -- 3)\n",
    "\n",
    "class vehical:\n",
    "    def car(self):\n",
    "        print(\"this is a car class\")\n",
    "    def bike(self):\n",
    "        print(\"this is a bike class\")\n",
    "        \n",
    "class colour:\n",
    "    def red(self):\n",
    "        print(\"this is a red colour\")\n",
    "    def black(self):\n",
    "        print(\"this is a black colour\")\n",
    "        \n",
    "class model(vehical , colour):\n",
    "    def thar(self):\n",
    "        self.car()\n",
    "        self.black()\n",
    "    def r1(self):\n",
    "        self.bike()\n",
    "        self.red()"
   ]
  },
  {
   "cell_type": "code",
   "execution_count": 36,
   "id": "066ff2ea",
   "metadata": {
    "scrolled": true
   },
   "outputs": [
    {
     "name": "stdout",
     "output_type": "stream",
     "text": [
      "this is a bike class\n",
      "this is a red colour\n",
      "this is a car class\n",
      "this is a black colour\n"
     ]
    }
   ],
   "source": [
    "m1 = model()\n",
    "m1.r1()\n",
    "\n",
    "m1.thar()"
   ]
  },
  {
   "cell_type": "code",
   "execution_count": 47,
   "id": "f962342c",
   "metadata": {},
   "outputs": [],
   "source": [
    "# ( EX--4  hybrid inheritance) :\n",
    "\n",
    "class pwskills11:\n",
    "    def m1(self):\n",
    "        print(\"hellooo bachooo\")\n",
    "        \n",
    "class st1(pwskills11):\n",
    "    def s1(self):\n",
    "        print(\"i am in data science master batch 2.O\")\n",
    "        \n",
    "class st2(pwskills11):\n",
    "    def s2(self):\n",
    "        print(\"i am in data science master batch 1.O\")\n",
    "\n",
    "class st3(st1,pwskills11):\n",
    "    def s3(self):\n",
    "        print(\"i am in java course \")"
   ]
  },
  {
   "cell_type": "code",
   "execution_count": 48,
   "id": "334114d7",
   "metadata": {},
   "outputs": [
    {
     "name": "stdout",
     "output_type": "stream",
     "text": [
      "hellooo bachooo\n",
      "i am in data science master batch 2.O\n",
      "i am in java course \n"
     ]
    }
   ],
   "source": [
    "dhruv = st3()\n",
    "dhruv.m1()\n",
    "dhruv.s1()\n",
    "dhruv.s3()"
   ]
  },
  {
   "cell_type": "code",
   "execution_count": 51,
   "id": "1ba11d8d",
   "metadata": {},
   "outputs": [
    {
     "name": "stdout",
     "output_type": "stream",
     "text": [
      "i am a parent class\n",
      "i am first child \n",
      "i am a parent class\n",
      "i am second child\n"
     ]
    }
   ],
   "source": [
    "# (EX -- 5  - herarchical inheritance)\n",
    "\n",
    "class p:\n",
    "    def m1(self):\n",
    "        print(\"i am a parent class\")\n",
    "        \n",
    "class c1(p):\n",
    "    def m2(self):\n",
    "        print(\"i am first child \")\n",
    "        \n",
    "class c2(p):\n",
    "    def m3(self):\n",
    "        print(\"i am second child\")\n",
    "        \n",
    "obj1 = c1()\n",
    "obj2 = c2()\n",
    "\n",
    "obj1.m1()\n",
    "obj1.m2()\n",
    "\n",
    "obj2.m1()\n",
    "obj2.m3()\n"
   ]
  }
 ],
 "metadata": {
  "kernelspec": {
   "display_name": "Python 3 (ipykernel)",
   "language": "python",
   "name": "python3"
  },
  "language_info": {
   "codemirror_mode": {
    "name": "ipython",
    "version": 3
   },
   "file_extension": ".py",
   "mimetype": "text/x-python",
   "name": "python",
   "nbconvert_exporter": "python",
   "pygments_lexer": "ipython3",
   "version": "3.9.7"
  }
 },
 "nbformat": 4,
 "nbformat_minor": 5
}
